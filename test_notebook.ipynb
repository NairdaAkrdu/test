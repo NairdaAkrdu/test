{
 "cells": [
  {
   "cell_type": "code",
   "execution_count": 1,
   "metadata": {},
   "outputs": [
    {
     "name": "stdout",
     "output_type": "stream",
     "text": [
      "hello from Jupyter\n"
     ]
    }
   ],
   "source": [
    "print(\"hello from Jupyter\")"
   ]
  },
  {
   "cell_type": "markdown",
   "metadata": {},
   "source": [
    "Słowniki:\n",
    "\n",
    "najpierw jest klucz a później jego wartość\n",
    "\n",
    "za pomocą get otrzymujesz wartość\n",
    "\n"
   ]
  },
  {
   "cell_type": "code",
   "execution_count": 2,
   "metadata": {},
   "outputs": [],
   "source": [
    "moj_slownik = {\n",
    "    \"name\": \"Adrian\",\n",
    "    \"age\": 19              \n",
    "}\n",
    "\n",
    "moj_slownik[\"age\"] = 20\n",
    "\n"
   ]
  },
  {
   "cell_type": "markdown",
   "metadata": {},
   "source": [
    "listy:\n",
    "\n",
    "Praktyczne Zastosowanie\n",
    "Zbiory są szczególnie przydatne, gdy chcesz wyciągnąć listę unikalnych elementów. Na przykład, interesuje Cię lista unikalnych tagów wykorzystanych przy różnych postach na blogu, i wrzucając je do zbioru, automatycznie odrzucone zostaną powielające się tagi, tzn. wystąpią dokładnie raz.\n",
    "\n",
    "Ograniczenia\n",
    "Chociaż zestawy są przydatne do niektórych zadań, ich brak uporządkowania (z ang. unordered) i niemożność uwzględnienia zduplikowanych elementów może być ograniczeniem dla innych celów. Na przykład, nie można wykorzystać zbiorów do przechowywania listy elementów, których kolejność ma znaczenie, takich jak kroki w przepisie."
   ]
  },
  {
   "cell_type": "code",
   "execution_count": 9,
   "metadata": {},
   "outputs": [
    {
     "name": "stdout",
     "output_type": "stream",
     "text": [
      "35\n",
      "36.6\n",
      "20\n"
     ]
    }
   ],
   "source": [
    "lista = [35, 'mleko', 12, 'cukier', 36.6]\n",
    "\n",
    "print(lista[0])\n",
    "lista[0] = 20\n",
    "\n",
    "print(lista[-1])\n",
    "print(lista[0])\n"
   ]
  },
  {
   "cell_type": "markdown",
   "metadata": {},
   "source": [
    "Zbiory:\n",
    "\n",
    "Unikalność elementów: Każdy element w zbiorze występuje dokładnie raz. Jeśli spróbujesz dodać taki sam element zostanie on automatycznie pominięty, bo występuje już w zbiorze.\n",
    "Nieuporządkowany: Zbiory nie rejestrują pozycji elementów ani kolejności ich dołączenia. Oznacza to między innymi, że nie można uzyskać dostępu do poszczególnych elementów za pomocą indeksu, tak jak w przypadku list (zobacz następne tematy).\n",
    "\n",
    "Praktyczne Zastosowanie\n",
    "Zbiory są szczególnie przydatne, gdy chcesz wyciągnąć listę unikalnych elementów. Na przykład, interesuje Cię lista unikalnych tagów wykorzystanych przy różnych postach na blogu, i wrzucając je do zbioru, automatycznie odrzucone zostaną powielające się tagi, tzn. wystąpią dokładnie raz.\n",
    "\n",
    "Ograniczenia\n",
    "Chociaż zestawy są przydatne do niektórych zadań, ich brak uporządkowania (z ang. unordered) i niemożność uwzględnienia zduplikowanych elementów może być ograniczeniem dla innych celów. Na przykład, nie można wykorzystać zbiorów do przechowywania listy elementów, których kolejność ma znaczenie, takich jak kroki w przepisie."
   ]
  },
  {
   "cell_type": "code",
   "execution_count": 13,
   "metadata": {},
   "outputs": [
    {
     "name": "stdout",
     "output_type": "stream",
     "text": [
      "True\n",
      "{1, 2, 3, 4}\n",
      "{1, 2, 4}\n",
      "{1, 2, 4, 5, 6}\n"
     ]
    }
   ],
   "source": [
    "zbior = {1,2,3}\n",
    "\n",
    "\n",
    "my_set = {\"apple\", \"banana\", \"cherry\"}\n",
    "exists = \"banana\" in my_set\n",
    "\n",
    "print(exists)\n",
    "\n",
    "my_set = {1, 2, 3}\n",
    "\n",
    "my_set.add(4)\n",
    "print(my_set)\n",
    "\n",
    "my_set.remove(3)\n",
    "print(my_set)\n",
    "\n",
    "my_set.update([4, 5, 6])\n",
    "print(my_set)\n",
    "\n"
   ]
  },
  {
   "cell_type": "markdown",
   "metadata": {},
   "source": [
    "Krotki\n",
    "\n",
    "Kolejną wbudowaną strukturą danych w Pythonie jest krotka/tuple. Krotki są podobne do list, ponieważ mogą przechowywać ciąg elementów. Kluczową różnicą jest to, że krotki są niezmiennelubniemutowalne(z ang.unmutable`), co oznacza, że po utworzeniu ich zawartość nie może zostać zmieniona. Ta właściwość sprawia, że krotki są niezawodnym wyborem do reprezentowania danych, które powinny pozostać niezmienione w trakcie działania całego programu.\n",
    "\n",
    "Krotki są szczególnie przydatne, gdy chcemy zapewnić, że pewne dane pozostaną niezmienione. Na przykład, są one często używane do przechowywania stałych zestawów wartości, takich jak współrzędne (x, y, z) lub wartości kolorów RGB. Ich niezmienność czyni je również bezpiecznym wyborem dla kluczy w słownikach, w których nie można używać typów zmiennych, takich jak listy.\n",
    "\n",
    "Zrozumienie Niemutowalności/Niezmienniczości\n",
    "W programowaniu, a szczególnie w Pythonie, często można natknąć się na termin \"niezmienność\". Zrozumienie tego pojęcia jest kluczowe, zwłaszcza dla początkujących. Niezmienność jak sama nazwa wskazuje odnosi się do obiektów, które są stałe i nie mogą ulec zmianie w trakcie wykonywania programu. Po utworzeniu niezmiennego obiektu, jego stan i zawartość nie mogą zostać zmienione. Na początku może się to wydawać ograniczające, ale ma kilka zalet.\n",
    "\n",
    "Dlaczego Niezmienniczość ma Znaczenie\n",
    "Wyobraź sobie, że piszesz notatkę na kartce papieru, a po jej stworzeniu nie możesz jej usunąć ani zmienić w żaden sposób - nie mamy korektora i użyliśmy niezmywalnego długopisu. W podobny sposób skonstruowane są niezmienne obiekty w Pythonie. Na przykład, gdy tworzysz krotkę, taką jak (\"apple\", \"banana\", \"cherry\"), nie możesz zmienić jednego z owoców w krotce na coś innego. Jeśli spróbujesz zmienić \"apple\" na \"orange\" w krotce, Python wyświetli błąd:\n",
    "\n",
    "fruits = (\"apple\", \"banana\", \"cherry\")\n",
    "fruits[0] = \"strawberry\""
   ]
  },
  {
   "cell_type": "code",
   "execution_count": 16,
   "metadata": {},
   "outputs": [
    {
     "name": "stdout",
     "output_type": "stream",
     "text": [
      "('apple', 'banana', 'orange')\n"
     ]
    }
   ],
   "source": [
    "krotka = (\"apple\", \"banana\", \"cherry\")\n",
    "\n",
    "\n",
    "\n",
    "my_tuple = (\"apple\", \"banana\", \"cherry\")\n",
    "my_tuple = my_tuple[:2] + (\"orange\",)\n",
    "\n",
    "print(my_tuple)\n"
   ]
  },
  {
   "cell_type": "markdown",
   "metadata": {},
   "source": [
    "Typyt mieszane\n",
    "\n",
    "W tej krotce mamy łańcuch \"John Doe\", liczbę całkowitą 30, kolejną krotkę (\"Python Developer\", \"Data Analyst\") i listę [3.5, 4.7]. To demonstruje zdolność krotki do przechowywania różnych typów danych."
   ]
  },
  {
   "cell_type": "code",
   "execution_count": 6,
   "metadata": {},
   "outputs": [],
   "source": [
    "mieszane_struktury = (\"John Doe\", 30, (\"Python Developer\", \"Data Analyst\"), [3.5, 4.7])"
   ]
  },
  {
   "cell_type": "markdown",
   "metadata": {},
   "source": [
    "słownik w wewnątrz listy \n",
    "\n",
    "Słowniki Wewnątrz Zbioru\n",
    "Ograniczenie\n",
    "W Pythonie zbiory to mutowalne obiekty zawierające elementy niezmienne (niemutowalne). Ponieważ słowniki są mutowalne to nie mogą być elementami zbioru.\n",
    "\n"
   ]
  },
  {
   "cell_type": "code",
   "execution_count": 7,
   "metadata": {},
   "outputs": [
    {
     "name": "stdout",
     "output_type": "stream",
     "text": [
      "Adi\n"
     ]
    }
   ],
   "source": [
    "słownik_w_liście = [\n",
    "  {\n",
    "    \"name\": \"Adi\",\n",
    "    \"age\": 19\n",
    "  },\n",
    "  {\n",
    "    \"name\": \"Inne imię\",\n",
    "    \"wiek\": 65\n",
    "  }\n",
    "]\n",
    "\n",
    "print(słownik_w_liście[0][\"name\"])\n"
   ]
  },
  {
   "cell_type": "markdown",
   "metadata": {},
   "source": [
    "słownik w krotce\n",
    "\n",
    "Słowniki Wewnątrz Krotki\n",
    "W Pythonie całkowicie możliwe i czasami bardzo przydatne jest przechowywanie słowników w krotkach. Struktura ta łączy w sobie niezmienność krotek z elastyczną i opisową naturą słowników, co czyni ją potężnym narzędziem dla niektórych aplikacji.\n",
    "\n",
    "dzięki temu mozna zablokować słowniki "
   ]
  },
  {
   "cell_type": "code",
   "execution_count": 8,
   "metadata": {},
   "outputs": [],
   "source": [
    "employees = (\n",
    "  {\n",
    "    \"name\": \"Alice\", \n",
    "    \"role\": \"Developer\", \n",
    "    \"doświadczenie\": 5\n",
    "  },\n",
    "  {\n",
    "    \"name\": \"Bob\", \n",
    "    \"role\": \"projektant\", \n",
    "    \"doświadczenie\": 3\n",
    "  }\n",
    ")"
   ]
  },
  {
   "cell_type": "markdown",
   "metadata": {},
   "source": [
    "Podsumowanie:\n",
    "\n",
    "Słownik\n",
    "{}\n",
    "\"klucz\", \"wartość\"\n",
    "żeby pozyskać dane to zastosuj get np. słownik.get(\"age\")\n",
    "Żeby zmienić to trzeba dać słownik[\"age\"] = 20\n",
    "w przypadku słowników w liście to musisz wstawić odwołanie do listy lista[0][\"klucz\"]\n",
    "\n",
    "Lista\n",
    "[]\n",
    "Zgrupowanie Niepowiązanych ze sobą elementów - np. lista zakupów, np. lista uczestników itd.\n",
    "żeby pozyskać dane to zastosuj get np. lista[0]\n",
    "Żeby zmienić to trzeba dać słownik[\"age\"] = 20\n",
    "\n",
    "Zbiór \n",
    "{}\n",
    "Unikalne i nieuporządkowane elementy\n",
    "Zastosowanie: gdy chcesz zebrać unikalne elementy\n",
    "nie możesz się odnieść do konkretnego elementu [], ale możesz sprawdzić, czy element znajduje się wzbioreze za pomocą operatora \"in\"\n",
    "Żeby dodać, to wstaw cyfrę 4. lub update \n",
    "Żeby usunąć to skorzystaj z funkcji zbior.remowe(3)\n",
    "\n",
    "Krotka\n",
    "()\n",
    "Podobna do listy, ale ona jest niezmienna\n",
    "\n"
   ]
  }
 ],
 "metadata": {
  "kernelspec": {
   "display_name": "env_name",
   "language": "python",
   "name": "python3"
  },
  "language_info": {
   "codemirror_mode": {
    "name": "ipython",
    "version": 3
   },
   "file_extension": ".py",
   "mimetype": "text/x-python",
   "name": "python",
   "nbconvert_exporter": "python",
   "pygments_lexer": "ipython3",
   "version": "3.12.5"
  }
 },
 "nbformat": 4,
 "nbformat_minor": 2
}
